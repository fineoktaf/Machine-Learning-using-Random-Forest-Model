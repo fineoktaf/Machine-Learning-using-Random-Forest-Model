{
 "cells": [
  {
   "cell_type": "code",
   "execution_count": 1,
   "id": "71f1ec1d-a8f7-42bf-b10c-c90f75b934ea",
   "metadata": {
    "tags": []
   },
   "outputs": [],
   "source": [
    "# import libraries\n",
    "\n",
    "import time\n",
    "import pickle\n",
    "import pandas as pd"
   ]
  },
  {
   "cell_type": "code",
   "execution_count": 2,
   "id": "dd2289c4-0e89-490d-883f-72a3e4370a94",
   "metadata": {
    "tags": []
   },
   "outputs": [],
   "source": [
    "from sklearn.ensemble import RandomForestClassifier\n",
    "from sklearn.model_selection import train_test_split\n",
    "from sklearn.metrics import classification_report"
   ]
  },
  {
   "cell_type": "code",
   "execution_count": 3,
   "id": "e886df85-80f2-4b2d-aeba-1e3bf0bb0c2b",
   "metadata": {
    "tags": []
   },
   "outputs": [
    {
     "data": {
      "text/html": [
       "<div>\n",
       "<style scoped>\n",
       "    .dataframe tbody tr th:only-of-type {\n",
       "        vertical-align: middle;\n",
       "    }\n",
       "\n",
       "    .dataframe tbody tr th {\n",
       "        vertical-align: top;\n",
       "    }\n",
       "\n",
       "    .dataframe thead th {\n",
       "        text-align: right;\n",
       "    }\n",
       "</style>\n",
       "<table border=\"1\" class=\"dataframe\">\n",
       "  <thead>\n",
       "    <tr style=\"text-align: right;\">\n",
       "      <th></th>\n",
       "      <th>id</th>\n",
       "      <th>Gender</th>\n",
       "      <th>Age</th>\n",
       "      <th>Driving_License</th>\n",
       "      <th>Region_Code</th>\n",
       "      <th>Previously_Insured</th>\n",
       "      <th>Vehicle_Age</th>\n",
       "      <th>Vehicle_Damage</th>\n",
       "      <th>Annual_Premium</th>\n",
       "      <th>Policy_Sales_Channel</th>\n",
       "      <th>Vintage</th>\n",
       "      <th>Response</th>\n",
       "    </tr>\n",
       "  </thead>\n",
       "  <tbody>\n",
       "    <tr>\n",
       "      <th>0</th>\n",
       "      <td>1</td>\n",
       "      <td>Male</td>\n",
       "      <td>44</td>\n",
       "      <td>1</td>\n",
       "      <td>28</td>\n",
       "      <td>0</td>\n",
       "      <td>&gt; 2 Years</td>\n",
       "      <td>Yes</td>\n",
       "      <td>40454</td>\n",
       "      <td>26</td>\n",
       "      <td>217</td>\n",
       "      <td>1</td>\n",
       "    </tr>\n",
       "  </tbody>\n",
       "</table>\n",
       "</div>"
      ],
      "text/plain": [
       "   id Gender  Age  Driving_License  Region_Code  Previously_Insured  \\\n",
       "0   1   Male   44                1           28                   0   \n",
       "\n",
       "  Vehicle_Age Vehicle_Damage  Annual_Premium  Policy_Sales_Channel  Vintage  \\\n",
       "0   > 2 Years            Yes           40454                    26      217   \n",
       "\n",
       "   Response  \n",
       "0         1  "
      ]
     },
     "execution_count": 3,
     "metadata": {},
     "output_type": "execute_result"
    }
   ],
   "source": [
    "# Memuat dataset\n",
    "data = pd.read_csv('Prediction Insurance.csv')\n",
    "data.head(1)"
   ]
  },
  {
   "cell_type": "code",
   "execution_count": 4,
   "id": "9485ec37-9e2c-425a-aef6-fc78761e1baf",
   "metadata": {
    "tags": []
   },
   "outputs": [],
   "source": [
    "#data preprocessing\n",
    "data = data.drop('id', axis=1)"
   ]
  },
  {
   "cell_type": "code",
   "execution_count": 5,
   "id": "df26a00d-99aa-4cc5-b983-f8faedc79f66",
   "metadata": {
    "tags": []
   },
   "outputs": [],
   "source": [
    "data['Gender'] = data['Gender'].map({'Male':1, 'Female':0})"
   ]
  },
  {
   "cell_type": "code",
   "execution_count": 6,
   "id": "bf0f2c90-d67e-449f-9168-6af610b1dfd4",
   "metadata": {
    "tags": []
   },
   "outputs": [],
   "source": [
    "data['Vehicle_Damage'] = data['Vehicle_Damage'].map({'Yes':1, 'No':0})"
   ]
  },
  {
   "cell_type": "code",
   "execution_count": 7,
   "id": "4e93f91c-18bb-42b4-b951-4d1e7976005d",
   "metadata": {
    "tags": []
   },
   "outputs": [],
   "source": [
    "df_region = pd.get_dummies(data['Region_Code'])"
   ]
  },
  {
   "cell_type": "code",
   "execution_count": 8,
   "id": "6d0b8922-c413-4014-ac7d-1f4ec8eaf379",
   "metadata": {
    "tags": []
   },
   "outputs": [],
   "source": [
    "df_2 = data[['Gender','Age','Driving_License', 'Vehicle_Damage', 'Previously_Insured','Response']].merge(df_region, left_index=True, right_index=True)\n"
   ]
  },
  {
   "cell_type": "code",
   "execution_count": 9,
   "id": "de0c08e6-f95f-4c4a-b994-d9947102e484",
   "metadata": {
    "tags": []
   },
   "outputs": [
    {
     "name": "stdout",
     "output_type": "stream",
     "text": [
      "<class 'pandas.core.frame.DataFrame'>\n",
      "RangeIndex: 381109 entries, 0 to 381108\n",
      "Data columns (total 59 columns):\n",
      " #   Column              Non-Null Count   Dtype\n",
      "---  ------              --------------   -----\n",
      " 0   Gender              381109 non-null  int64\n",
      " 1   Age                 381109 non-null  int64\n",
      " 2   Driving_License     381109 non-null  int64\n",
      " 3   Vehicle_Damage      381109 non-null  int64\n",
      " 4   Previously_Insured  381109 non-null  int64\n",
      " 5   Response            381109 non-null  int64\n",
      " 6   0                   381109 non-null  bool \n",
      " 7   1                   381109 non-null  bool \n",
      " 8   2                   381109 non-null  bool \n",
      " 9   3                   381109 non-null  bool \n",
      " 10  4                   381109 non-null  bool \n",
      " 11  5                   381109 non-null  bool \n",
      " 12  6                   381109 non-null  bool \n",
      " 13  7                   381109 non-null  bool \n",
      " 14  8                   381109 non-null  bool \n",
      " 15  9                   381109 non-null  bool \n",
      " 16  10                  381109 non-null  bool \n",
      " 17  11                  381109 non-null  bool \n",
      " 18  12                  381109 non-null  bool \n",
      " 19  13                  381109 non-null  bool \n",
      " 20  14                  381109 non-null  bool \n",
      " 21  15                  381109 non-null  bool \n",
      " 22  16                  381109 non-null  bool \n",
      " 23  17                  381109 non-null  bool \n",
      " 24  18                  381109 non-null  bool \n",
      " 25  19                  381109 non-null  bool \n",
      " 26  20                  381109 non-null  bool \n",
      " 27  21                  381109 non-null  bool \n",
      " 28  22                  381109 non-null  bool \n",
      " 29  23                  381109 non-null  bool \n",
      " 30  24                  381109 non-null  bool \n",
      " 31  25                  381109 non-null  bool \n",
      " 32  26                  381109 non-null  bool \n",
      " 33  27                  381109 non-null  bool \n",
      " 34  28                  381109 non-null  bool \n",
      " 35  29                  381109 non-null  bool \n",
      " 36  30                  381109 non-null  bool \n",
      " 37  31                  381109 non-null  bool \n",
      " 38  32                  381109 non-null  bool \n",
      " 39  33                  381109 non-null  bool \n",
      " 40  34                  381109 non-null  bool \n",
      " 41  35                  381109 non-null  bool \n",
      " 42  36                  381109 non-null  bool \n",
      " 43  37                  381109 non-null  bool \n",
      " 44  38                  381109 non-null  bool \n",
      " 45  39                  381109 non-null  bool \n",
      " 46  40                  381109 non-null  bool \n",
      " 47  41                  381109 non-null  bool \n",
      " 48  42                  381109 non-null  bool \n",
      " 49  43                  381109 non-null  bool \n",
      " 50  44                  381109 non-null  bool \n",
      " 51  45                  381109 non-null  bool \n",
      " 52  46                  381109 non-null  bool \n",
      " 53  47                  381109 non-null  bool \n",
      " 54  48                  381109 non-null  bool \n",
      " 55  49                  381109 non-null  bool \n",
      " 56  50                  381109 non-null  bool \n",
      " 57  51                  381109 non-null  bool \n",
      " 58  52                  381109 non-null  bool \n",
      "dtypes: bool(53), int64(6)\n",
      "memory usage: 36.7 MB\n"
     ]
    }
   ],
   "source": [
    "\n",
    "df_2.columns = df_2.columns.astype(str)\n",
    "df_2.info()"
   ]
  },
  {
   "cell_type": "code",
   "execution_count": 10,
   "id": "beadb682-b2d4-45dc-af37-f4dd5991bbf9",
   "metadata": {
    "tags": []
   },
   "outputs": [],
   "source": [
    "#data modelling using Random Forest\n",
    "x = df_2.drop('Response', axis=1)\n",
    "y = df_2['Response']\n",
    "x_train, x_test, y_train, y_test = train_test_split(x,y, test_size=0.2, random_state=0)"
   ]
  },
  {
   "cell_type": "code",
   "execution_count": 11,
   "id": "61255dad-00c8-49f9-a15b-2160d66ff1da",
   "metadata": {
    "tags": []
   },
   "outputs": [],
   "source": [
    "start = time.time()\n",
    "model = RandomForestClassifier(n_estimators=100, random_state=0)"
   ]
  },
  {
   "cell_type": "code",
   "execution_count": 12,
   "id": "848519fa-c5b9-46a3-99bc-8e77fd59d944",
   "metadata": {
    "tags": []
   },
   "outputs": [
    {
     "name": "stdout",
     "output_type": "stream",
     "text": [
      "Training Time 74.00523567199707 second\n"
     ]
    }
   ],
   "source": [
    "model.fit(x_train, y_train)\n",
    "stop = time.time()\n",
    "print(f\"Training Time {stop-start} second\")"
   ]
  },
  {
   "cell_type": "code",
   "execution_count": 13,
   "id": "f94ca102-08b5-45a7-9c9e-120793241c58",
   "metadata": {
    "tags": []
   },
   "outputs": [
    {
     "name": "stdout",
     "output_type": "stream",
     "text": [
      "              precision    recall  f1-score   support\n",
      "\n",
      "           0       0.99      0.88      0.93     75362\n",
      "           1       0.03      0.29      0.05       860\n",
      "\n",
      "    accuracy                           0.87     76222\n",
      "   macro avg       0.51      0.58      0.49     76222\n",
      "weighted avg       0.98      0.87      0.92     76222\n",
      "\n"
     ]
    }
   ],
   "source": [
    "# # Evaluasi model RandomForestClass\n",
    "y_predict = model.predict(x_test)\n",
    "print(classification_report(y_predict, y_test))"
   ]
  },
  {
   "cell_type": "code",
   "execution_count": 14,
   "id": "f15393c0-9f7b-474f-9459-93fb5c9338ac",
   "metadata": {
    "tags": []
   },
   "outputs": [],
   "source": [
    "# Membangun model menggunakan\n",
    "\n",
    "import pickle\n",
    "import gzip"
   ]
  },
  {
   "cell_type": "code",
   "execution_count": 16,
   "id": "324237ed-50ea-472b-b339-af6abdacd3e2",
   "metadata": {
    "tags": []
   },
   "outputs": [],
   "source": [
    "# Simpan model\n",
    "with open('model.pkl', 'wb') as file:\n",
    "    pickle.dump(model, file)"
   ]
  },
  {
   "cell_type": "code",
   "execution_count": 18,
   "id": "fe929615-2f4c-4ec9-86fe-930e30342d2f",
   "metadata": {
    "tags": []
   },
   "outputs": [],
   "source": [
    "with open('model_random_forest.pkl','rb') as f_in:\n",
    "    with gzip.open('model_random_forest.pkl.gz','wb') as f_out:\n",
    "        f_out.writelines(f_in)"
   ]
  },
  {
   "cell_type": "code",
   "execution_count": null,
   "id": "e364d590-0aa3-4aef-be57-a9ba5818d20c",
   "metadata": {},
   "outputs": [],
   "source": []
  }
 ],
 "metadata": {
  "kernelspec": {
   "display_name": "Python 3 (ipykernel)",
   "language": "python",
   "name": "python3"
  },
  "language_info": {
   "codemirror_mode": {
    "name": "ipython",
    "version": 3
   },
   "file_extension": ".py",
   "mimetype": "text/x-python",
   "name": "python",
   "nbconvert_exporter": "python",
   "pygments_lexer": "ipython3",
   "version": "3.11.5"
  }
 },
 "nbformat": 4,
 "nbformat_minor": 5
}
